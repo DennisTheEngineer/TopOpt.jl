{
 "metadata": {
  "language_info": {
   "codemirror_mode": {
    "name": "ipython",
    "version": 3
   },
   "file_extension": ".py",
   "mimetype": "text/x-python",
   "name": "python",
   "nbconvert_exporter": "python",
   "pygments_lexer": "ipython3",
   "version": 3
  },
  "orig_nbformat": 2,
  "kernelspec": {
   "name": "julia-1.6",
   "display_name": "Julia 1.6.0-rc1",
   "language": "julia"
  }
 },
 "nbformat": 4,
 "nbformat_minor": 2,
 "cells": [
  {
   "cell_type": "code",
   "execution_count": 1,
   "metadata": {},
   "outputs": [],
   "source": [
    "using Revise\n",
    "using TopOpt\n",
    "using TimerOutputs"
   ]
  },
  {
   "cell_type": "code",
   "execution_count": 7,
   "metadata": {},
   "outputs": [],
   "source": [
    "includet(\"./new_problems.jl\")"
   ]
  },
  {
   "source": [
    "# Problem definitions"
   ],
   "cell_type": "markdown",
   "metadata": {}
  },
  {
   "cell_type": "code",
   "execution_count": 13,
   "metadata": {},
   "outputs": [],
   "source": [
    "to = TimerOutput()\n",
    "reset_timer!(to)\n",
    "\n",
    "# Define the problem\n",
    "E = 1.0 # Young’s modulus\n",
    "v = 0.3 # Poisson’s ratio\n",
    "f = 1.0; # downward force\n",
    "\n",
    "# Parameter settings\n",
    "V = 0.3 # volume fraction\n",
    "xmin = 0.001 # minimum density\n",
    "rmin = 2.0; # density filter radius\n",
    "\n",
    "nels = (30, 10, 10) \n",
    "sizes = (1.0, 1.0, 1.0)\n",
    "@timeit to \"problem def\" problem = NewPointLoadCantilever(Val{:Linear}, nels, sizes, E, v, f);\n",
    "\n",
    "# Define a finite element solver\n",
    "@timeit to \"penalty def\" penalty = TopOpt.PowerPenalty(3.0)\n",
    "@timeit to \"solver def\" solver = FEASolver(Displacement, Direct, problem, xmin = xmin,\n",
    "    penalty = penalty);"
   ]
  },
  {
   "source": [
    "# Debuggings"
   ],
   "cell_type": "markdown",
   "metadata": {}
  },
  {
   "cell_type": "code",
   "execution_count": 15,
   "metadata": {},
   "outputs": [],
   "source": [
    "solver()"
   ]
  },
  {
   "cell_type": "code",
   "execution_count": 25,
   "metadata": {
    "tags": []
   },
   "outputs": [],
   "source": [
    "Ke = solver.elementinfo.Kes[1]\n",
    "for Ke2 in solver.elementinfo.Kes\n",
    "    @assert isapprox(Ke, Ke2)\n",
    "end"
   ]
  },
  {
   "cell_type": "code",
   "execution_count": 29,
   "metadata": {},
   "outputs": [
    {
     "output_type": "stream",
     "name": "stdout",
     "text": [
      "(Ke[1, :])' = [0.2350427350427351 0.08012820512820513 0.08012820512820515 -0.10683760683760686 0.01602564102564108 0.01602564102564108 -0.08547008547008551 -0.08012820512820519 0.008012820512820543 0.05341880341880346 -0.016025641025640983 0.04006410256410257 0.05341880341880347 0.040064102564102595 -0.016025641025640986 -0.08547008547008553 0.008012820512820543 -0.08012820512820523 -0.0587606837606838 -0.04006410256410261 -0.040064102564102595 -0.005341880341880335 -0.008012820512820496 -0.008012820512820498]\n"
     ]
    },
    {
     "output_type": "execute_result",
     "data": {
      "text/plain": [
       "1×24 adjoint(::Vector{Float64}) with eltype Float64:\n",
       " 0.235043  0.0801282  0.0801282  -0.106838  …  -0.00801282  -0.00801282"
      ]
     },
     "metadata": {},
     "execution_count": 29
    }
   ],
   "source": [
    "@show Ke[1,:]'"
   ]
  },
  {
   "source": [
    "# Visualization"
   ],
   "cell_type": "markdown",
   "metadata": {}
  },
  {
   "cell_type": "code",
   "execution_count": 11,
   "metadata": {},
   "outputs": [
    {
     "output_type": "stream",
     "name": "stderr",
     "text": [
      "┌ Info: Makie/AbstractPlotting is caching fonts, this may take a while. Needed only on first run!\n└ @ AbstractPlotting C:\\Users\\yijiangh\\.julia\\packages\\AbstractPlotting\\bwl0n\\src\\utilities\\texture_atlas.jl:115\n"
     ]
    },
    {
     "output_type": "execute_result",
     "data": {
      "text/plain": [
       "GLMakie.Screen(...)"
      ]
     },
     "metadata": {},
     "execution_count": 11
    }
   ],
   "source": [
    "import Makie\n",
    "using TopOpt.TopOptProblems.Visualization: visualize\n",
    "\n",
    "fig = visualize(problem)\n",
    "Makie.display(fig)\n",
    "\n",
    "# fig = visualize(problem; topology=result.topology, default_exagg_scale=0.07, scale_range=10.0, vector_linewidth=3, vector_arrowsize=0.5)"
   ]
  }
 ]
}