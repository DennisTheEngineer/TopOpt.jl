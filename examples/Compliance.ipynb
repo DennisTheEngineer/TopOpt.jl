{
 "cells": [
  {
   "cell_type": "code",
   "execution_count": 1,
   "metadata": {
    "collapsed": false
   },
   "outputs": [
    {
     "name": "stderr",
     "output_type": "stream",
     "text": [
      "┌ Info: Recompiling stale cache file C:\\Users\\user\\.julia\\compiled\\v1.0\\TopOpt\\hbUzO.ji for TopOpt [a2897536-14a3-5939-bba3-1af5a9b17592]\n",
      "└ @ Base loading.jl:1190\n"
     ]
    }
   ],
   "source": [
    "using Revise, TopOpt"
   ]
  },
  {
   "cell_type": "code",
   "execution_count": 2,
   "metadata": {
    "collapsed": false
   },
   "outputs": [
    {
     "data": {
      "text/plain": [
       "(0.0001, 40, true)"
      ]
     },
     "execution_count": 2,
     "metadata": {},
     "output_type": "execute_result"
    }
   ],
   "source": [
    "E, v, f = 1.0, 0.3, 1.0\n",
    "rmin = 3.0\n",
    "problem = PointLoadCantilever(Val{:Linear}, (160, 40), (1.0, 1.0), E, v, f)\n",
    "V, xmin, maxtol = 0.5, 0.001, 0.01\n",
    "mintol, steps, reuse = 0.0001, 40, true"
   ]
  },
  {
   "cell_type": "code",
   "execution_count": 3,
   "metadata": {
    "collapsed": false
   },
   "outputs": [],
   "source": [
    "solver = FEASolver(Displacement, CG, MatrixFree, problem, xmin = xmin,\n",
    "    penalty = TopOpt.PowerPenalty(1.0))\n",
    "filterT = DensityFilter\n",
    "obj = Compliance(problem, solver, filterT = filterT,\n",
    "    rmin = rmin, tracing = true, logarithm = false)\n",
    "vol = Volume(problem, solver, filterT = DensityFilter,\n",
    "    rmin = rmin), V);\n"
    "constr = x -> vol(x) - V;\n"
   ]
  },
  {
   "cell_type": "code",
   "execution_count": 9,
   "metadata": {
    "collapsed": false
   },
   "outputs": [],
   "source": [
    "cu_obj = TopOpt.cu(obj)\n",
    "optimizer = MMAOptimizer{TopOpt.CPU}(cu_obj, constr, MMA.MMA87(),\n",
    "        ConjugateGradient(), maxiter=1000); optimizer.obj.fevals = 0;"
   ]
  },
  {
   "cell_type": "code",
   "execution_count": 10,
   "metadata": {
    "collapsed": false
   },
   "outputs": [
    {
     "name": "stderr",
     "output_type": "stream",
     "text": [
      "┌ Warning: Linesearch failed, using alpha = 0.0 and exiting optimization.\n",
      "│ The linesearch exited with message:\n",
      "│ Linesearch failed to converge, reached maximum iterations 50.\n",
      "└ @ Optim C:\\Users\\user\\.julia\\packages\\Optim\\ULNLZ\\src\\utilities\\perform_linesearch.jl:47\n",
      "┌ Warning: Linesearch failed, using alpha = 0.0 and exiting optimization.\n",
      "│ The linesearch exited with message:\n",
      "│ Linesearch failed to converge, reached maximum iterations 50.\n",
      "└ @ Optim C:\\Users\\user\\.julia\\packages\\Optim\\ULNLZ\\src\\utilities\\perform_linesearch.jl:47\n"
     ]
    },
    {
     "data": {
      "text/plain": [
       "TopOpt.SIMPResult{Float64}([1.0, 1.0, 1.0, 1.0, 1.0, 1.0, 1.0, 1.0, 1.0, 1.0  …  0.0, 0.0, 0.0, 0.0, 0.0, 0.0, 0.0, 0.0, 0.0, 0.0], 333.273346144442, 91, 0.04250783044665796, false, 0.023792972063517936, true, 2.993194634586416, false, Pair{Float64,Int64}[1.0=>9, 1.1=>0, 1.1=>1, 1.1=>1, 1.2=>0, 1.2=>1, 1.2=>1, 1.3=>0, 1.3=>1, 1.3=>1  …  4.6=>0, 4.7=>0, 4.8=>0, 4.9=>0, 5.0=>1, 5.0=>1, 5.0=>1, 5.0=>1, 5.0=>1, 5.0=>1], 83)"
      ]
     },
     "execution_count": 10,
     "metadata": {},
     "output_type": "execute_result"
    }
   ],
   "source": [
    "simp = SIMP(optimizer, 1.0)\n",
    "b = log(mintol / maxtol) / steps\n",
    "a = maxtol / exp(b)\n",
    "ftol_gen = ExponentialContinuation(a, b, 0.0, steps+1, mintol)\n",
    "cont_simp = ContinuationSIMP(simp, start=1.0, steps=steps,\n",
    "finish=5.0, reuse=reuse, ftol_cont=ftol_gen)\n",
    "\n",
    "# Solve\n",
    "x0 = fill(1.0, length(solver.vars))\n",
    "result = cont_simp(x0)"
   ]
  },
  {
   "cell_type": "code",
   "execution_count": 11,
   "metadata": {
    "collapsed": false
   },
   "outputs": [
    {
     "data": {
      "text/plain": [
       "333.273346144442"
      ]
     },
     "execution_count": 11,
     "metadata": {},
     "output_type": "execute_result"
    }
   ],
   "source": [
    "result.objval"
   ]
  },
  {
   "cell_type": "code",
   "execution_count": null,
   "metadata": {
    "collapsed": true
   },
   "outputs": [],
   "source": []
  }
 ],
 "metadata": {
  "kernelspec": {
   "display_name": "Julia 1.0.2",
   "language": "julia",
   "name": "julia-1.0"
  },
  "language_info": {
   "file_extension": ".jl",
   "mimetype": "application/julia",
   "name": "julia",
   "version": "1.0.2"
  }
 },
 "nbformat": 4,
 "nbformat_minor": 2
}
